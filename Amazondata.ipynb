{
 "cells": [
  {
   "cell_type": "code",
   "execution_count": 1,
   "id": "55a876ac",
   "metadata": {},
   "outputs": [],
   "source": [
    "import pandas as pd"
   ]
  },
  {
   "cell_type": "code",
   "execution_count": 2,
   "id": "eb82bef6",
   "metadata": {},
   "outputs": [
    {
     "name": "stderr",
     "output_type": "stream",
     "text": [
      "C:\\Users\\Welcome\\anaconda3\\lib\\site-packages\\IPython\\core\\interactiveshell.py:3444: DtypeWarning: Columns (23) have mixed types.Specify dtype option on import or set low_memory=False.\n",
      "  exec(code_obj, self.user_global_ns, self.user_ns)\n"
     ]
    }
   ],
   "source": [
    "data = pd.read_csv('Amazon Sale Report.csv')"
   ]
  },
  {
   "cell_type": "code",
   "execution_count": 3,
   "id": "bac045af",
   "metadata": {},
   "outputs": [
    {
     "data": {
      "text/html": [
       "<div>\n",
       "<style scoped>\n",
       "    .dataframe tbody tr th:only-of-type {\n",
       "        vertical-align: middle;\n",
       "    }\n",
       "\n",
       "    .dataframe tbody tr th {\n",
       "        vertical-align: top;\n",
       "    }\n",
       "\n",
       "    .dataframe thead th {\n",
       "        text-align: right;\n",
       "    }\n",
       "</style>\n",
       "<table border=\"1\" class=\"dataframe\">\n",
       "  <thead>\n",
       "    <tr style=\"text-align: right;\">\n",
       "      <th></th>\n",
       "      <th>index</th>\n",
       "      <th>Order ID</th>\n",
       "      <th>Date</th>\n",
       "      <th>Status</th>\n",
       "      <th>Fulfilment</th>\n",
       "      <th>Sales Channel</th>\n",
       "      <th>ship-service-level</th>\n",
       "      <th>Style</th>\n",
       "      <th>SKU</th>\n",
       "      <th>Category</th>\n",
       "      <th>...</th>\n",
       "      <th>currency</th>\n",
       "      <th>Amount</th>\n",
       "      <th>ship-city</th>\n",
       "      <th>ship-state</th>\n",
       "      <th>ship-postal-code</th>\n",
       "      <th>ship-country</th>\n",
       "      <th>promotion-ids</th>\n",
       "      <th>B2B</th>\n",
       "      <th>fulfilled-by</th>\n",
       "      <th>Unnamed: 22</th>\n",
       "    </tr>\n",
       "  </thead>\n",
       "  <tbody>\n",
       "    <tr>\n",
       "      <th>0</th>\n",
       "      <td>0</td>\n",
       "      <td>405-8078784-5731545</td>\n",
       "      <td>04-30-22</td>\n",
       "      <td>Cancelled</td>\n",
       "      <td>Merchant</td>\n",
       "      <td>Amazon.in</td>\n",
       "      <td>Standard</td>\n",
       "      <td>SET389</td>\n",
       "      <td>SET389-KR-NP-S</td>\n",
       "      <td>Set</td>\n",
       "      <td>...</td>\n",
       "      <td>INR</td>\n",
       "      <td>647.62</td>\n",
       "      <td>MUMBAI</td>\n",
       "      <td>MAHARASHTRA</td>\n",
       "      <td>400081.0</td>\n",
       "      <td>IN</td>\n",
       "      <td>NaN</td>\n",
       "      <td>False</td>\n",
       "      <td>Easy Ship</td>\n",
       "      <td>NaN</td>\n",
       "    </tr>\n",
       "    <tr>\n",
       "      <th>1</th>\n",
       "      <td>1</td>\n",
       "      <td>171-9198151-1101146</td>\n",
       "      <td>04-30-22</td>\n",
       "      <td>Shipped - Delivered to Buyer</td>\n",
       "      <td>Merchant</td>\n",
       "      <td>Amazon.in</td>\n",
       "      <td>Standard</td>\n",
       "      <td>JNE3781</td>\n",
       "      <td>JNE3781-KR-XXXL</td>\n",
       "      <td>kurta</td>\n",
       "      <td>...</td>\n",
       "      <td>INR</td>\n",
       "      <td>406.00</td>\n",
       "      <td>BENGALURU</td>\n",
       "      <td>KARNATAKA</td>\n",
       "      <td>560085.0</td>\n",
       "      <td>IN</td>\n",
       "      <td>Amazon PLCC Free-Financing Universal Merchant ...</td>\n",
       "      <td>False</td>\n",
       "      <td>Easy Ship</td>\n",
       "      <td>NaN</td>\n",
       "    </tr>\n",
       "    <tr>\n",
       "      <th>2</th>\n",
       "      <td>2</td>\n",
       "      <td>404-0687676-7273146</td>\n",
       "      <td>04-30-22</td>\n",
       "      <td>Shipped</td>\n",
       "      <td>Amazon</td>\n",
       "      <td>Amazon.in</td>\n",
       "      <td>Expedited</td>\n",
       "      <td>JNE3371</td>\n",
       "      <td>JNE3371-KR-XL</td>\n",
       "      <td>kurta</td>\n",
       "      <td>...</td>\n",
       "      <td>INR</td>\n",
       "      <td>329.00</td>\n",
       "      <td>NAVI MUMBAI</td>\n",
       "      <td>MAHARASHTRA</td>\n",
       "      <td>410210.0</td>\n",
       "      <td>IN</td>\n",
       "      <td>IN Core Free Shipping 2015/04/08 23-48-5-108</td>\n",
       "      <td>True</td>\n",
       "      <td>NaN</td>\n",
       "      <td>NaN</td>\n",
       "    </tr>\n",
       "    <tr>\n",
       "      <th>3</th>\n",
       "      <td>3</td>\n",
       "      <td>403-9615377-8133951</td>\n",
       "      <td>04-30-22</td>\n",
       "      <td>Cancelled</td>\n",
       "      <td>Merchant</td>\n",
       "      <td>Amazon.in</td>\n",
       "      <td>Standard</td>\n",
       "      <td>J0341</td>\n",
       "      <td>J0341-DR-L</td>\n",
       "      <td>Western Dress</td>\n",
       "      <td>...</td>\n",
       "      <td>INR</td>\n",
       "      <td>753.33</td>\n",
       "      <td>PUDUCHERRY</td>\n",
       "      <td>PUDUCHERRY</td>\n",
       "      <td>605008.0</td>\n",
       "      <td>IN</td>\n",
       "      <td>NaN</td>\n",
       "      <td>False</td>\n",
       "      <td>Easy Ship</td>\n",
       "      <td>NaN</td>\n",
       "    </tr>\n",
       "    <tr>\n",
       "      <th>4</th>\n",
       "      <td>4</td>\n",
       "      <td>407-1069790-7240320</td>\n",
       "      <td>04-30-22</td>\n",
       "      <td>Shipped</td>\n",
       "      <td>Amazon</td>\n",
       "      <td>Amazon.in</td>\n",
       "      <td>Expedited</td>\n",
       "      <td>JNE3671</td>\n",
       "      <td>JNE3671-TU-XXXL</td>\n",
       "      <td>Top</td>\n",
       "      <td>...</td>\n",
       "      <td>INR</td>\n",
       "      <td>574.00</td>\n",
       "      <td>CHENNAI</td>\n",
       "      <td>TAMIL NADU</td>\n",
       "      <td>600073.0</td>\n",
       "      <td>IN</td>\n",
       "      <td>NaN</td>\n",
       "      <td>False</td>\n",
       "      <td>NaN</td>\n",
       "      <td>NaN</td>\n",
       "    </tr>\n",
       "  </tbody>\n",
       "</table>\n",
       "<p>5 rows × 24 columns</p>\n",
       "</div>"
      ],
      "text/plain": [
       "   index             Order ID      Date                        Status  \\\n",
       "0      0  405-8078784-5731545  04-30-22                     Cancelled   \n",
       "1      1  171-9198151-1101146  04-30-22  Shipped - Delivered to Buyer   \n",
       "2      2  404-0687676-7273146  04-30-22                       Shipped   \n",
       "3      3  403-9615377-8133951  04-30-22                     Cancelled   \n",
       "4      4  407-1069790-7240320  04-30-22                       Shipped   \n",
       "\n",
       "  Fulfilment Sales Channel  ship-service-level    Style              SKU  \\\n",
       "0   Merchant      Amazon.in           Standard   SET389   SET389-KR-NP-S   \n",
       "1   Merchant      Amazon.in           Standard  JNE3781  JNE3781-KR-XXXL   \n",
       "2     Amazon      Amazon.in          Expedited  JNE3371    JNE3371-KR-XL   \n",
       "3   Merchant      Amazon.in           Standard    J0341       J0341-DR-L   \n",
       "4     Amazon      Amazon.in          Expedited  JNE3671  JNE3671-TU-XXXL   \n",
       "\n",
       "        Category  ... currency  Amount    ship-city   ship-state  \\\n",
       "0            Set  ...      INR  647.62       MUMBAI  MAHARASHTRA   \n",
       "1          kurta  ...      INR  406.00    BENGALURU    KARNATAKA   \n",
       "2          kurta  ...      INR  329.00  NAVI MUMBAI  MAHARASHTRA   \n",
       "3  Western Dress  ...      INR  753.33   PUDUCHERRY   PUDUCHERRY   \n",
       "4            Top  ...      INR  574.00      CHENNAI   TAMIL NADU   \n",
       "\n",
       "  ship-postal-code  ship-country  \\\n",
       "0         400081.0            IN   \n",
       "1         560085.0            IN   \n",
       "2         410210.0            IN   \n",
       "3         605008.0            IN   \n",
       "4         600073.0            IN   \n",
       "\n",
       "                                       promotion-ids    B2B  fulfilled-by  \\\n",
       "0                                                NaN  False     Easy Ship   \n",
       "1  Amazon PLCC Free-Financing Universal Merchant ...  False     Easy Ship   \n",
       "2       IN Core Free Shipping 2015/04/08 23-48-5-108   True           NaN   \n",
       "3                                                NaN  False     Easy Ship   \n",
       "4                                                NaN  False           NaN   \n",
       "\n",
       "  Unnamed: 22  \n",
       "0         NaN  \n",
       "1         NaN  \n",
       "2         NaN  \n",
       "3         NaN  \n",
       "4         NaN  \n",
       "\n",
       "[5 rows x 24 columns]"
      ]
     },
     "execution_count": 3,
     "metadata": {},
     "output_type": "execute_result"
    }
   ],
   "source": [
    "data.head()"
   ]
  },
  {
   "cell_type": "code",
   "execution_count": 4,
   "id": "38e5a294",
   "metadata": {},
   "outputs": [
    {
     "data": {
      "text/plain": [
       "(128975, 24)"
      ]
     },
     "execution_count": 4,
     "metadata": {},
     "output_type": "execute_result"
    }
   ],
   "source": [
    "data.shape"
   ]
  },
  {
   "cell_type": "code",
   "execution_count": 5,
   "id": "013bd56b",
   "metadata": {},
   "outputs": [
    {
     "data": {
      "text/plain": [
       "3095400"
      ]
     },
     "execution_count": 5,
     "metadata": {},
     "output_type": "execute_result"
    }
   ],
   "source": [
    "data.size"
   ]
  },
  {
   "cell_type": "code",
   "execution_count": 6,
   "id": "7a00fc8e",
   "metadata": {},
   "outputs": [
    {
     "name": "stdout",
     "output_type": "stream",
     "text": [
      "<class 'pandas.core.frame.DataFrame'>\n",
      "RangeIndex: 128975 entries, 0 to 128974\n",
      "Data columns (total 24 columns):\n",
      " #   Column              Non-Null Count   Dtype  \n",
      "---  ------              --------------   -----  \n",
      " 0   index               128975 non-null  int64  \n",
      " 1   Order ID            128975 non-null  object \n",
      " 2   Date                128975 non-null  object \n",
      " 3   Status              128975 non-null  object \n",
      " 4   Fulfilment          128975 non-null  object \n",
      " 5   Sales Channel       128975 non-null  object \n",
      " 6   ship-service-level  128975 non-null  object \n",
      " 7   Style               128975 non-null  object \n",
      " 8   SKU                 128975 non-null  object \n",
      " 9   Category            128975 non-null  object \n",
      " 10  Size                128975 non-null  object \n",
      " 11  ASIN                128975 non-null  object \n",
      " 12  Courier Status      122103 non-null  object \n",
      " 13  Qty                 128975 non-null  int64  \n",
      " 14  currency            121180 non-null  object \n",
      " 15  Amount              121180 non-null  float64\n",
      " 16  ship-city           128942 non-null  object \n",
      " 17  ship-state          128942 non-null  object \n",
      " 18  ship-postal-code    128942 non-null  float64\n",
      " 19  ship-country        128942 non-null  object \n",
      " 20  promotion-ids       79822 non-null   object \n",
      " 21  B2B                 128975 non-null  bool   \n",
      " 22  fulfilled-by        39277 non-null   object \n",
      " 23  Unnamed: 22         79925 non-null   object \n",
      "dtypes: bool(1), float64(2), int64(2), object(19)\n",
      "memory usage: 22.8+ MB\n"
     ]
    }
   ],
   "source": [
    "data.info()"
   ]
  },
  {
   "cell_type": "code",
   "execution_count": 7,
   "id": "61e049c3",
   "metadata": {},
   "outputs": [
    {
     "data": {
      "text/html": [
       "<div>\n",
       "<style scoped>\n",
       "    .dataframe tbody tr th:only-of-type {\n",
       "        vertical-align: middle;\n",
       "    }\n",
       "\n",
       "    .dataframe tbody tr th {\n",
       "        vertical-align: top;\n",
       "    }\n",
       "\n",
       "    .dataframe thead th {\n",
       "        text-align: right;\n",
       "    }\n",
       "</style>\n",
       "<table border=\"1\" class=\"dataframe\">\n",
       "  <thead>\n",
       "    <tr style=\"text-align: right;\">\n",
       "      <th></th>\n",
       "      <th>index</th>\n",
       "      <th>Order ID</th>\n",
       "      <th>Date</th>\n",
       "      <th>Status</th>\n",
       "      <th>Fulfilment</th>\n",
       "      <th>Sales Channel</th>\n",
       "      <th>ship-service-level</th>\n",
       "      <th>Style</th>\n",
       "      <th>SKU</th>\n",
       "      <th>Category</th>\n",
       "      <th>...</th>\n",
       "      <th>currency</th>\n",
       "      <th>Amount</th>\n",
       "      <th>ship-city</th>\n",
       "      <th>ship-state</th>\n",
       "      <th>ship-postal-code</th>\n",
       "      <th>ship-country</th>\n",
       "      <th>promotion-ids</th>\n",
       "      <th>B2B</th>\n",
       "      <th>fulfilled-by</th>\n",
       "      <th>Unnamed: 22</th>\n",
       "    </tr>\n",
       "  </thead>\n",
       "  <tbody>\n",
       "    <tr>\n",
       "      <th>0</th>\n",
       "      <td>False</td>\n",
       "      <td>False</td>\n",
       "      <td>False</td>\n",
       "      <td>False</td>\n",
       "      <td>False</td>\n",
       "      <td>False</td>\n",
       "      <td>False</td>\n",
       "      <td>False</td>\n",
       "      <td>False</td>\n",
       "      <td>False</td>\n",
       "      <td>...</td>\n",
       "      <td>False</td>\n",
       "      <td>False</td>\n",
       "      <td>False</td>\n",
       "      <td>False</td>\n",
       "      <td>False</td>\n",
       "      <td>False</td>\n",
       "      <td>True</td>\n",
       "      <td>False</td>\n",
       "      <td>False</td>\n",
       "      <td>True</td>\n",
       "    </tr>\n",
       "    <tr>\n",
       "      <th>1</th>\n",
       "      <td>False</td>\n",
       "      <td>False</td>\n",
       "      <td>False</td>\n",
       "      <td>False</td>\n",
       "      <td>False</td>\n",
       "      <td>False</td>\n",
       "      <td>False</td>\n",
       "      <td>False</td>\n",
       "      <td>False</td>\n",
       "      <td>False</td>\n",
       "      <td>...</td>\n",
       "      <td>False</td>\n",
       "      <td>False</td>\n",
       "      <td>False</td>\n",
       "      <td>False</td>\n",
       "      <td>False</td>\n",
       "      <td>False</td>\n",
       "      <td>False</td>\n",
       "      <td>False</td>\n",
       "      <td>False</td>\n",
       "      <td>True</td>\n",
       "    </tr>\n",
       "    <tr>\n",
       "      <th>2</th>\n",
       "      <td>False</td>\n",
       "      <td>False</td>\n",
       "      <td>False</td>\n",
       "      <td>False</td>\n",
       "      <td>False</td>\n",
       "      <td>False</td>\n",
       "      <td>False</td>\n",
       "      <td>False</td>\n",
       "      <td>False</td>\n",
       "      <td>False</td>\n",
       "      <td>...</td>\n",
       "      <td>False</td>\n",
       "      <td>False</td>\n",
       "      <td>False</td>\n",
       "      <td>False</td>\n",
       "      <td>False</td>\n",
       "      <td>False</td>\n",
       "      <td>False</td>\n",
       "      <td>False</td>\n",
       "      <td>True</td>\n",
       "      <td>True</td>\n",
       "    </tr>\n",
       "    <tr>\n",
       "      <th>3</th>\n",
       "      <td>False</td>\n",
       "      <td>False</td>\n",
       "      <td>False</td>\n",
       "      <td>False</td>\n",
       "      <td>False</td>\n",
       "      <td>False</td>\n",
       "      <td>False</td>\n",
       "      <td>False</td>\n",
       "      <td>False</td>\n",
       "      <td>False</td>\n",
       "      <td>...</td>\n",
       "      <td>False</td>\n",
       "      <td>False</td>\n",
       "      <td>False</td>\n",
       "      <td>False</td>\n",
       "      <td>False</td>\n",
       "      <td>False</td>\n",
       "      <td>True</td>\n",
       "      <td>False</td>\n",
       "      <td>False</td>\n",
       "      <td>True</td>\n",
       "    </tr>\n",
       "    <tr>\n",
       "      <th>4</th>\n",
       "      <td>False</td>\n",
       "      <td>False</td>\n",
       "      <td>False</td>\n",
       "      <td>False</td>\n",
       "      <td>False</td>\n",
       "      <td>False</td>\n",
       "      <td>False</td>\n",
       "      <td>False</td>\n",
       "      <td>False</td>\n",
       "      <td>False</td>\n",
       "      <td>...</td>\n",
       "      <td>False</td>\n",
       "      <td>False</td>\n",
       "      <td>False</td>\n",
       "      <td>False</td>\n",
       "      <td>False</td>\n",
       "      <td>False</td>\n",
       "      <td>True</td>\n",
       "      <td>False</td>\n",
       "      <td>True</td>\n",
       "      <td>True</td>\n",
       "    </tr>\n",
       "    <tr>\n",
       "      <th>...</th>\n",
       "      <td>...</td>\n",
       "      <td>...</td>\n",
       "      <td>...</td>\n",
       "      <td>...</td>\n",
       "      <td>...</td>\n",
       "      <td>...</td>\n",
       "      <td>...</td>\n",
       "      <td>...</td>\n",
       "      <td>...</td>\n",
       "      <td>...</td>\n",
       "      <td>...</td>\n",
       "      <td>...</td>\n",
       "      <td>...</td>\n",
       "      <td>...</td>\n",
       "      <td>...</td>\n",
       "      <td>...</td>\n",
       "      <td>...</td>\n",
       "      <td>...</td>\n",
       "      <td>...</td>\n",
       "      <td>...</td>\n",
       "      <td>...</td>\n",
       "    </tr>\n",
       "    <tr>\n",
       "      <th>128970</th>\n",
       "      <td>False</td>\n",
       "      <td>False</td>\n",
       "      <td>False</td>\n",
       "      <td>False</td>\n",
       "      <td>False</td>\n",
       "      <td>False</td>\n",
       "      <td>False</td>\n",
       "      <td>False</td>\n",
       "      <td>False</td>\n",
       "      <td>False</td>\n",
       "      <td>...</td>\n",
       "      <td>False</td>\n",
       "      <td>False</td>\n",
       "      <td>False</td>\n",
       "      <td>False</td>\n",
       "      <td>False</td>\n",
       "      <td>False</td>\n",
       "      <td>True</td>\n",
       "      <td>False</td>\n",
       "      <td>True</td>\n",
       "      <td>False</td>\n",
       "    </tr>\n",
       "    <tr>\n",
       "      <th>128971</th>\n",
       "      <td>False</td>\n",
       "      <td>False</td>\n",
       "      <td>False</td>\n",
       "      <td>False</td>\n",
       "      <td>False</td>\n",
       "      <td>False</td>\n",
       "      <td>False</td>\n",
       "      <td>False</td>\n",
       "      <td>False</td>\n",
       "      <td>False</td>\n",
       "      <td>...</td>\n",
       "      <td>False</td>\n",
       "      <td>False</td>\n",
       "      <td>False</td>\n",
       "      <td>False</td>\n",
       "      <td>False</td>\n",
       "      <td>False</td>\n",
       "      <td>False</td>\n",
       "      <td>False</td>\n",
       "      <td>True</td>\n",
       "      <td>False</td>\n",
       "    </tr>\n",
       "    <tr>\n",
       "      <th>128972</th>\n",
       "      <td>False</td>\n",
       "      <td>False</td>\n",
       "      <td>False</td>\n",
       "      <td>False</td>\n",
       "      <td>False</td>\n",
       "      <td>False</td>\n",
       "      <td>False</td>\n",
       "      <td>False</td>\n",
       "      <td>False</td>\n",
       "      <td>False</td>\n",
       "      <td>...</td>\n",
       "      <td>False</td>\n",
       "      <td>False</td>\n",
       "      <td>False</td>\n",
       "      <td>False</td>\n",
       "      <td>False</td>\n",
       "      <td>False</td>\n",
       "      <td>True</td>\n",
       "      <td>False</td>\n",
       "      <td>True</td>\n",
       "      <td>False</td>\n",
       "    </tr>\n",
       "    <tr>\n",
       "      <th>128973</th>\n",
       "      <td>False</td>\n",
       "      <td>False</td>\n",
       "      <td>False</td>\n",
       "      <td>False</td>\n",
       "      <td>False</td>\n",
       "      <td>False</td>\n",
       "      <td>False</td>\n",
       "      <td>False</td>\n",
       "      <td>False</td>\n",
       "      <td>False</td>\n",
       "      <td>...</td>\n",
       "      <td>False</td>\n",
       "      <td>False</td>\n",
       "      <td>False</td>\n",
       "      <td>False</td>\n",
       "      <td>False</td>\n",
       "      <td>False</td>\n",
       "      <td>False</td>\n",
       "      <td>False</td>\n",
       "      <td>True</td>\n",
       "      <td>False</td>\n",
       "    </tr>\n",
       "    <tr>\n",
       "      <th>128974</th>\n",
       "      <td>False</td>\n",
       "      <td>False</td>\n",
       "      <td>False</td>\n",
       "      <td>False</td>\n",
       "      <td>False</td>\n",
       "      <td>False</td>\n",
       "      <td>False</td>\n",
       "      <td>False</td>\n",
       "      <td>False</td>\n",
       "      <td>False</td>\n",
       "      <td>...</td>\n",
       "      <td>False</td>\n",
       "      <td>False</td>\n",
       "      <td>False</td>\n",
       "      <td>False</td>\n",
       "      <td>False</td>\n",
       "      <td>False</td>\n",
       "      <td>False</td>\n",
       "      <td>False</td>\n",
       "      <td>True</td>\n",
       "      <td>False</td>\n",
       "    </tr>\n",
       "  </tbody>\n",
       "</table>\n",
       "<p>128975 rows × 24 columns</p>\n",
       "</div>"
      ],
      "text/plain": [
       "        index  Order ID   Date  Status  Fulfilment  Sales Channel   \\\n",
       "0       False     False  False   False       False           False   \n",
       "1       False     False  False   False       False           False   \n",
       "2       False     False  False   False       False           False   \n",
       "3       False     False  False   False       False           False   \n",
       "4       False     False  False   False       False           False   \n",
       "...       ...       ...    ...     ...         ...             ...   \n",
       "128970  False     False  False   False       False           False   \n",
       "128971  False     False  False   False       False           False   \n",
       "128972  False     False  False   False       False           False   \n",
       "128973  False     False  False   False       False           False   \n",
       "128974  False     False  False   False       False           False   \n",
       "\n",
       "        ship-service-level  Style    SKU  Category  ...  currency  Amount  \\\n",
       "0                    False  False  False     False  ...     False   False   \n",
       "1                    False  False  False     False  ...     False   False   \n",
       "2                    False  False  False     False  ...     False   False   \n",
       "3                    False  False  False     False  ...     False   False   \n",
       "4                    False  False  False     False  ...     False   False   \n",
       "...                    ...    ...    ...       ...  ...       ...     ...   \n",
       "128970               False  False  False     False  ...     False   False   \n",
       "128971               False  False  False     False  ...     False   False   \n",
       "128972               False  False  False     False  ...     False   False   \n",
       "128973               False  False  False     False  ...     False   False   \n",
       "128974               False  False  False     False  ...     False   False   \n",
       "\n",
       "        ship-city  ship-state  ship-postal-code  ship-country  promotion-ids  \\\n",
       "0           False       False             False         False           True   \n",
       "1           False       False             False         False          False   \n",
       "2           False       False             False         False          False   \n",
       "3           False       False             False         False           True   \n",
       "4           False       False             False         False           True   \n",
       "...           ...         ...               ...           ...            ...   \n",
       "128970      False       False             False         False           True   \n",
       "128971      False       False             False         False          False   \n",
       "128972      False       False             False         False           True   \n",
       "128973      False       False             False         False          False   \n",
       "128974      False       False             False         False          False   \n",
       "\n",
       "          B2B  fulfilled-by  Unnamed: 22  \n",
       "0       False         False         True  \n",
       "1       False         False         True  \n",
       "2       False          True         True  \n",
       "3       False         False         True  \n",
       "4       False          True         True  \n",
       "...       ...           ...          ...  \n",
       "128970  False          True        False  \n",
       "128971  False          True        False  \n",
       "128972  False          True        False  \n",
       "128973  False          True        False  \n",
       "128974  False          True        False  \n",
       "\n",
       "[128975 rows x 24 columns]"
      ]
     },
     "execution_count": 7,
     "metadata": {},
     "output_type": "execute_result"
    }
   ],
   "source": [
    "data.isnull()"
   ]
  },
  {
   "cell_type": "code",
   "execution_count": 8,
   "id": "b8374365",
   "metadata": {},
   "outputs": [
    {
     "data": {
      "text/plain": [
       "index                     0\n",
       "Order ID                  0\n",
       "Date                      0\n",
       "Status                    0\n",
       "Fulfilment                0\n",
       "Sales Channel             0\n",
       "ship-service-level        0\n",
       "Style                     0\n",
       "SKU                       0\n",
       "Category                  0\n",
       "Size                      0\n",
       "ASIN                      0\n",
       "Courier Status         6872\n",
       "Qty                       0\n",
       "currency               7795\n",
       "Amount                 7795\n",
       "ship-city                33\n",
       "ship-state               33\n",
       "ship-postal-code         33\n",
       "ship-country             33\n",
       "promotion-ids         49153\n",
       "B2B                       0\n",
       "fulfilled-by          89698\n",
       "Unnamed: 22           49050\n",
       "dtype: int64"
      ]
     },
     "execution_count": 8,
     "metadata": {},
     "output_type": "execute_result"
    }
   ],
   "source": [
    "data.isnull().sum()"
   ]
  },
  {
   "cell_type": "code",
   "execution_count": 9,
   "id": "404908b7",
   "metadata": {},
   "outputs": [
    {
     "data": {
      "text/plain": [
       "index                  0.0\n",
       "Order ID               0.0\n",
       "Date                   0.0\n",
       "Status                 0.0\n",
       "Fulfilment             0.0\n",
       "Sales Channel          0.0\n",
       "ship-service-level     0.0\n",
       "Style                  0.0\n",
       "SKU                    0.0\n",
       "Category               0.0\n",
       "Size                   0.0\n",
       "ASIN                   0.0\n",
       "Courier Status         5.0\n",
       "Qty                    0.0\n",
       "currency               6.0\n",
       "Amount                 6.0\n",
       "ship-city              0.0\n",
       "ship-state             0.0\n",
       "ship-postal-code       0.0\n",
       "ship-country           0.0\n",
       "promotion-ids         38.0\n",
       "B2B                    0.0\n",
       "fulfilled-by          70.0\n",
       "Unnamed: 22           38.0\n",
       "dtype: float64"
      ]
     },
     "execution_count": 9,
     "metadata": {},
     "output_type": "execute_result"
    }
   ],
   "source": [
    "round(100*(data.isnull().sum()/len(data)),0)"
   ]
  },
  {
   "cell_type": "code",
   "execution_count": 10,
   "id": "2ffcaf9c",
   "metadata": {},
   "outputs": [],
   "source": [
    "data = data.drop('fulfilled-by', axis=1)\n",
    "data = data.drop('Unnamed: 22', axis=1)"
   ]
  },
  {
   "cell_type": "code",
   "execution_count": 11,
   "id": "2e5b5a54",
   "metadata": {},
   "outputs": [
    {
     "data": {
      "text/plain": [
       "index                  0.0\n",
       "Order ID               0.0\n",
       "Date                   0.0\n",
       "Status                 0.0\n",
       "Fulfilment             0.0\n",
       "Sales Channel          0.0\n",
       "ship-service-level     0.0\n",
       "Style                  0.0\n",
       "SKU                    0.0\n",
       "Category               0.0\n",
       "Size                   0.0\n",
       "ASIN                   0.0\n",
       "Courier Status         5.0\n",
       "Qty                    0.0\n",
       "currency               6.0\n",
       "Amount                 6.0\n",
       "ship-city              0.0\n",
       "ship-state             0.0\n",
       "ship-postal-code       0.0\n",
       "ship-country           0.0\n",
       "promotion-ids         38.0\n",
       "B2B                    0.0\n",
       "dtype: float64"
      ]
     },
     "execution_count": 11,
     "metadata": {},
     "output_type": "execute_result"
    }
   ],
   "source": [
    "round(100*(data.isnull().sum()/len(data)),0)"
   ]
  },
  {
   "cell_type": "code",
   "execution_count": 15,
   "id": "a1c5ea39",
   "metadata": {},
   "outputs": [
    {
     "data": {
      "text/plain": [
       "0                                                       NaN\n",
       "1         Amazon PLCC Free-Financing Universal Merchant ...\n",
       "2              IN Core Free Shipping 2015/04/08 23-48-5-108\n",
       "3                                                       NaN\n",
       "4                                                       NaN\n",
       "                                ...                        \n",
       "128970                                                  NaN\n",
       "128971         IN Core Free Shipping 2015/04/08 23-48-5-108\n",
       "128972                                                  NaN\n",
       "128973         IN Core Free Shipping 2015/04/08 23-48-5-108\n",
       "128974         IN Core Free Shipping 2015/04/08 23-48-5-108\n",
       "Name: promotion-ids, Length: 128975, dtype: object"
      ]
     },
     "execution_count": 15,
     "metadata": {},
     "output_type": "execute_result"
    }
   ],
   "source": [
    "data['promotion-ids']"
   ]
  },
  {
   "cell_type": "code",
   "execution_count": 16,
   "id": "c697b907",
   "metadata": {},
   "outputs": [
    {
     "data": {
      "text/plain": [
       "count                                            79822\n",
       "unique                                            5787\n",
       "top       IN Core Free Shipping 2015/04/08 23-48-5-108\n",
       "freq                                             46100\n",
       "Name: promotion-ids, dtype: object"
      ]
     },
     "execution_count": 16,
     "metadata": {},
     "output_type": "execute_result"
    }
   ],
   "source": [
    "data['promotion-ids'].describe()"
   ]
  },
  {
   "cell_type": "code",
   "execution_count": 20,
   "id": "45903074",
   "metadata": {},
   "outputs": [
    {
     "data": {
      "text/plain": [
       "0    IN Core Free Shipping 2015/04/08 23-48-5-108\n",
       "dtype: object"
      ]
     },
     "execution_count": 20,
     "metadata": {},
     "output_type": "execute_result"
    }
   ],
   "source": [
    "data['promotion-ids'].mode()"
   ]
  },
  {
   "cell_type": "code",
   "execution_count": 23,
   "id": "1c430139",
   "metadata": {},
   "outputs": [],
   "source": [
    "data['promotion-ids'].fillna(data['promotion-ids'].mode(),inplace=True)"
   ]
  },
  {
   "cell_type": "code",
   "execution_count": 24,
   "id": "e2f0be0a",
   "metadata": {},
   "outputs": [
    {
     "data": {
      "text/plain": [
       "index                  0.0\n",
       "Order ID               0.0\n",
       "Date                   0.0\n",
       "Status                 0.0\n",
       "Fulfilment             0.0\n",
       "Sales Channel          0.0\n",
       "ship-service-level     0.0\n",
       "Style                  0.0\n",
       "SKU                    0.0\n",
       "Category               0.0\n",
       "Size                   0.0\n",
       "ASIN                   0.0\n",
       "Courier Status         5.0\n",
       "Qty                    0.0\n",
       "currency               6.0\n",
       "Amount                 6.0\n",
       "ship-city              0.0\n",
       "ship-state             0.0\n",
       "ship-postal-code       0.0\n",
       "ship-country           0.0\n",
       "promotion-ids         38.0\n",
       "B2B                    0.0\n",
       "dtype: float64"
      ]
     },
     "execution_count": 24,
     "metadata": {},
     "output_type": "execute_result"
    }
   ],
   "source": [
    "round(100*(data.isnull().sum()/len(data)),0)"
   ]
  },
  {
   "cell_type": "code",
   "execution_count": 28,
   "id": "2c353065",
   "metadata": {},
   "outputs": [],
   "source": [
    "data['promotion-ids'].fillna('IN Core Free Shipping 2015/04/08 23-48-5-108',inplace=True)"
   ]
  },
  {
   "cell_type": "code",
   "execution_count": 29,
   "id": "e348d6e4",
   "metadata": {},
   "outputs": [
    {
     "data": {
      "text/plain": [
       "0              IN Core Free Shipping 2015/04/08 23-48-5-108\n",
       "1         Amazon PLCC Free-Financing Universal Merchant ...\n",
       "2              IN Core Free Shipping 2015/04/08 23-48-5-108\n",
       "3              IN Core Free Shipping 2015/04/08 23-48-5-108\n",
       "4              IN Core Free Shipping 2015/04/08 23-48-5-108\n",
       "                                ...                        \n",
       "128970         IN Core Free Shipping 2015/04/08 23-48-5-108\n",
       "128971         IN Core Free Shipping 2015/04/08 23-48-5-108\n",
       "128972         IN Core Free Shipping 2015/04/08 23-48-5-108\n",
       "128973         IN Core Free Shipping 2015/04/08 23-48-5-108\n",
       "128974         IN Core Free Shipping 2015/04/08 23-48-5-108\n",
       "Name: promotion-ids, Length: 128975, dtype: object"
      ]
     },
     "execution_count": 29,
     "metadata": {},
     "output_type": "execute_result"
    }
   ],
   "source": [
    "data['promotion-ids']"
   ]
  },
  {
   "cell_type": "code",
   "execution_count": 30,
   "id": "e67fbba6",
   "metadata": {},
   "outputs": [
    {
     "data": {
      "text/plain": [
       "index                 0.0\n",
       "Order ID              0.0\n",
       "Date                  0.0\n",
       "Status                0.0\n",
       "Fulfilment            0.0\n",
       "Sales Channel         0.0\n",
       "ship-service-level    0.0\n",
       "Style                 0.0\n",
       "SKU                   0.0\n",
       "Category              0.0\n",
       "Size                  0.0\n",
       "ASIN                  0.0\n",
       "Courier Status        5.0\n",
       "Qty                   0.0\n",
       "currency              6.0\n",
       "Amount                6.0\n",
       "ship-city             0.0\n",
       "ship-state            0.0\n",
       "ship-postal-code      0.0\n",
       "ship-country          0.0\n",
       "promotion-ids         0.0\n",
       "B2B                   0.0\n",
       "dtype: float64"
      ]
     },
     "execution_count": 30,
     "metadata": {},
     "output_type": "execute_result"
    }
   ],
   "source": [
    "round(100*(data.isnull().sum()/len(data)),0)"
   ]
  },
  {
   "cell_type": "code",
   "execution_count": 31,
   "id": "7a4a53d0",
   "metadata": {},
   "outputs": [
    {
     "data": {
      "text/plain": [
       "count    121180.000000\n",
       "mean        648.561465\n",
       "std         281.211687\n",
       "min           0.000000\n",
       "25%         449.000000\n",
       "50%         605.000000\n",
       "75%         788.000000\n",
       "max        5584.000000\n",
       "Name: Amount, dtype: float64"
      ]
     },
     "execution_count": 31,
     "metadata": {},
     "output_type": "execute_result"
    }
   ],
   "source": [
    "data['Amount'].describe()"
   ]
  },
  {
   "cell_type": "markdown",
   "id": "ded4a58d",
   "metadata": {},
   "source": [
    "Since imputing the data will give biased results, we will delete the rows containing no amount"
   ]
  },
  {
   "cell_type": "code",
   "execution_count": 34,
   "id": "fe37139f",
   "metadata": {},
   "outputs": [],
   "source": [
    "import numpy as np"
   ]
  },
  {
   "cell_type": "code",
   "execution_count": 35,
   "id": "87a3d61d",
   "metadata": {},
   "outputs": [],
   "source": [
    "data = data[~np.isnan(data['Amount'])]"
   ]
  },
  {
   "cell_type": "code",
   "execution_count": 36,
   "id": "daa36ba7",
   "metadata": {},
   "outputs": [
    {
     "data": {
      "text/plain": [
       "index                 0.0\n",
       "Order ID              0.0\n",
       "Date                  0.0\n",
       "Status                0.0\n",
       "Fulfilment            0.0\n",
       "Sales Channel         0.0\n",
       "ship-service-level    0.0\n",
       "Style                 0.0\n",
       "SKU                   0.0\n",
       "Category              0.0\n",
       "Size                  0.0\n",
       "ASIN                  0.0\n",
       "Courier Status        4.0\n",
       "Qty                   0.0\n",
       "currency              0.0\n",
       "Amount                0.0\n",
       "ship-city             0.0\n",
       "ship-state            0.0\n",
       "ship-postal-code      0.0\n",
       "ship-country          0.0\n",
       "promotion-ids         0.0\n",
       "B2B                   0.0\n",
       "dtype: float64"
      ]
     },
     "execution_count": 36,
     "metadata": {},
     "output_type": "execute_result"
    }
   ],
   "source": [
    "round(100*(data.isnull().sum()/len(data)),0)"
   ]
  },
  {
   "cell_type": "code",
   "execution_count": 37,
   "id": "dd41af18",
   "metadata": {},
   "outputs": [
    {
     "data": {
      "text/plain": [
       "0             NaN\n",
       "1         Shipped\n",
       "2         Shipped\n",
       "3             NaN\n",
       "4         Shipped\n",
       "           ...   \n",
       "128970    Shipped\n",
       "128971    Shipped\n",
       "128972    Shipped\n",
       "128973    Shipped\n",
       "128974    Shipped\n",
       "Name: Courier Status, Length: 121180, dtype: object"
      ]
     },
     "execution_count": 37,
     "metadata": {},
     "output_type": "execute_result"
    }
   ],
   "source": [
    "data['Courier Status']"
   ]
  },
  {
   "cell_type": "code",
   "execution_count": 38,
   "id": "97f5dfd6",
   "metadata": {},
   "outputs": [
    {
     "data": {
      "text/plain": [
       "count      116044\n",
       "unique          2\n",
       "top       Shipped\n",
       "freq       109487\n",
       "Name: Courier Status, dtype: object"
      ]
     },
     "execution_count": 38,
     "metadata": {},
     "output_type": "execute_result"
    }
   ],
   "source": [
    "data['Courier Status'].describe()"
   ]
  },
  {
   "cell_type": "code",
   "execution_count": 41,
   "id": "d9c4d85b",
   "metadata": {},
   "outputs": [],
   "source": [
    "data['Courier Status'].fillna('Shipped',inplace=True)"
   ]
  },
  {
   "cell_type": "code",
   "execution_count": 42,
   "id": "34f5c666",
   "metadata": {},
   "outputs": [
    {
     "data": {
      "text/plain": [
       "index                 0.0\n",
       "Order ID              0.0\n",
       "Date                  0.0\n",
       "Status                0.0\n",
       "Fulfilment            0.0\n",
       "Sales Channel         0.0\n",
       "ship-service-level    0.0\n",
       "Style                 0.0\n",
       "SKU                   0.0\n",
       "Category              0.0\n",
       "Size                  0.0\n",
       "ASIN                  0.0\n",
       "Courier Status        0.0\n",
       "Qty                   0.0\n",
       "currency              0.0\n",
       "Amount                0.0\n",
       "ship-city             0.0\n",
       "ship-state            0.0\n",
       "ship-postal-code      0.0\n",
       "ship-country          0.0\n",
       "promotion-ids         0.0\n",
       "B2B                   0.0\n",
       "dtype: float64"
      ]
     },
     "execution_count": 42,
     "metadata": {},
     "output_type": "execute_result"
    }
   ],
   "source": [
    "round(100*(data.isnull().sum())/len(data),0)"
   ]
  },
  {
   "cell_type": "code",
   "execution_count": 47,
   "id": "43eee281",
   "metadata": {},
   "outputs": [
    {
     "data": {
      "text/plain": [
       "94.0"
      ]
     },
     "execution_count": 47,
     "metadata": {},
     "output_type": "execute_result"
    }
   ],
   "source": [
    "round(100*(len(data)/128975),1)"
   ]
  },
  {
   "cell_type": "markdown",
   "id": "336e5fcc",
   "metadata": {},
   "source": [
    "We still have 94% of the data with us"
   ]
  },
  {
   "cell_type": "code",
   "execution_count": 49,
   "id": "aed786c1",
   "metadata": {},
   "outputs": [
    {
     "name": "stdout",
     "output_type": "stream",
     "text": [
      "<class 'pandas.core.frame.DataFrame'>\n",
      "Int64Index: 121180 entries, 0 to 128974\n",
      "Data columns (total 22 columns):\n",
      " #   Column              Non-Null Count   Dtype  \n",
      "---  ------              --------------   -----  \n",
      " 0   index               121180 non-null  int64  \n",
      " 1   Order ID            121180 non-null  object \n",
      " 2   Date                121180 non-null  object \n",
      " 3   Status              121180 non-null  object \n",
      " 4   Fulfilment          121180 non-null  object \n",
      " 5   Sales Channel       121180 non-null  object \n",
      " 6   ship-service-level  121180 non-null  object \n",
      " 7   Style               121180 non-null  object \n",
      " 8   SKU                 121180 non-null  object \n",
      " 9   Category            121180 non-null  object \n",
      " 10  Size                121180 non-null  object \n",
      " 11  ASIN                121180 non-null  object \n",
      " 12  Courier Status      121180 non-null  object \n",
      " 13  Qty                 121180 non-null  int64  \n",
      " 14  currency            121180 non-null  object \n",
      " 15  Amount              121180 non-null  float64\n",
      " 16  ship-city           121149 non-null  object \n",
      " 17  ship-state          121149 non-null  object \n",
      " 18  ship-postal-code    121149 non-null  float64\n",
      " 19  ship-country        121149 non-null  object \n",
      " 20  promotion-ids       121180 non-null  object \n",
      " 21  B2B                 121180 non-null  bool   \n",
      "dtypes: bool(1), float64(2), int64(2), object(17)\n",
      "memory usage: 20.5+ MB\n"
     ]
    }
   ],
   "source": [
    "data.info()"
   ]
  },
  {
   "cell_type": "code",
   "execution_count": 48,
   "id": "a565a9d5",
   "metadata": {},
   "outputs": [
    {
     "data": {
      "text/html": [
       "<div>\n",
       "<style scoped>\n",
       "    .dataframe tbody tr th:only-of-type {\n",
       "        vertical-align: middle;\n",
       "    }\n",
       "\n",
       "    .dataframe tbody tr th {\n",
       "        vertical-align: top;\n",
       "    }\n",
       "\n",
       "    .dataframe thead th {\n",
       "        text-align: right;\n",
       "    }\n",
       "</style>\n",
       "<table border=\"1\" class=\"dataframe\">\n",
       "  <thead>\n",
       "    <tr style=\"text-align: right;\">\n",
       "      <th></th>\n",
       "      <th>index</th>\n",
       "      <th>Qty</th>\n",
       "      <th>Amount</th>\n",
       "      <th>ship-postal-code</th>\n",
       "    </tr>\n",
       "  </thead>\n",
       "  <tbody>\n",
       "    <tr>\n",
       "      <th>count</th>\n",
       "      <td>121180.000000</td>\n",
       "      <td>121180.000000</td>\n",
       "      <td>121180.000000</td>\n",
       "      <td>121149.000000</td>\n",
       "    </tr>\n",
       "    <tr>\n",
       "      <th>mean</th>\n",
       "      <td>64483.115877</td>\n",
       "      <td>0.961231</td>\n",
       "      <td>648.561465</td>\n",
       "      <td>463652.687525</td>\n",
       "    </tr>\n",
       "    <tr>\n",
       "      <th>std</th>\n",
       "      <td>37222.531993</td>\n",
       "      <td>0.214354</td>\n",
       "      <td>281.211687</td>\n",
       "      <td>191316.128616</td>\n",
       "    </tr>\n",
       "    <tr>\n",
       "      <th>min</th>\n",
       "      <td>0.000000</td>\n",
       "      <td>0.000000</td>\n",
       "      <td>0.000000</td>\n",
       "      <td>110001.000000</td>\n",
       "    </tr>\n",
       "    <tr>\n",
       "      <th>25%</th>\n",
       "      <td>32285.750000</td>\n",
       "      <td>1.000000</td>\n",
       "      <td>449.000000</td>\n",
       "      <td>382421.000000</td>\n",
       "    </tr>\n",
       "    <tr>\n",
       "      <th>50%</th>\n",
       "      <td>64474.500000</td>\n",
       "      <td>1.000000</td>\n",
       "      <td>605.000000</td>\n",
       "      <td>500032.000000</td>\n",
       "    </tr>\n",
       "    <tr>\n",
       "      <th>75%</th>\n",
       "      <td>96680.250000</td>\n",
       "      <td>1.000000</td>\n",
       "      <td>788.000000</td>\n",
       "      <td>600021.000000</td>\n",
       "    </tr>\n",
       "    <tr>\n",
       "      <th>max</th>\n",
       "      <td>128974.000000</td>\n",
       "      <td>8.000000</td>\n",
       "      <td>5584.000000</td>\n",
       "      <td>989898.000000</td>\n",
       "    </tr>\n",
       "  </tbody>\n",
       "</table>\n",
       "</div>"
      ],
      "text/plain": [
       "               index            Qty         Amount  ship-postal-code\n",
       "count  121180.000000  121180.000000  121180.000000     121149.000000\n",
       "mean    64483.115877       0.961231     648.561465     463652.687525\n",
       "std     37222.531993       0.214354     281.211687     191316.128616\n",
       "min         0.000000       0.000000       0.000000     110001.000000\n",
       "25%     32285.750000       1.000000     449.000000     382421.000000\n",
       "50%     64474.500000       1.000000     605.000000     500032.000000\n",
       "75%     96680.250000       1.000000     788.000000     600021.000000\n",
       "max    128974.000000       8.000000    5584.000000     989898.000000"
      ]
     },
     "execution_count": 48,
     "metadata": {},
     "output_type": "execute_result"
    }
   ],
   "source": [
    "data.describe()"
   ]
  },
  {
   "cell_type": "code",
   "execution_count": 52,
   "id": "7d2de53e",
   "metadata": {},
   "outputs": [
    {
     "data": {
      "text/plain": [
       "Shipped                          77596\n",
       "Shipped - Delivered to Buyer     28761\n",
       "Cancelled                        10766\n",
       "Shipped - Returned to Seller      1950\n",
       "Shipped - Picked Up                973\n",
       "Pending                            656\n",
       "Pending - Waiting for Pick Up      281\n",
       "Shipped - Returning to Seller      145\n",
       "Shipped - Out for Delivery          35\n",
       "Shipped - Rejected by Buyer         11\n",
       "Shipped - Lost in Transit            5\n",
       "Shipped - Damaged                    1\n",
       "Name: Status, dtype: int64"
      ]
     },
     "execution_count": 52,
     "metadata": {},
     "output_type": "execute_result"
    }
   ],
   "source": [
    "data['Status'].value_counts()"
   ]
  },
  {
   "cell_type": "code",
   "execution_count": 67,
   "id": "0ab9879a",
   "metadata": {},
   "outputs": [],
   "source": [
    "d1 = data['Category'].value_counts()"
   ]
  },
  {
   "cell_type": "code",
   "execution_count": 68,
   "id": "8a534c36",
   "metadata": {},
   "outputs": [],
   "source": [
    "cancelleddata = data[data['Status']=='Cancelled']['Category'].value_counts()"
   ]
  },
  {
   "cell_type": "code",
   "execution_count": 69,
   "id": "fdb77b62",
   "metadata": {},
   "outputs": [
    {
     "data": {
      "text/plain": [
       "Set              4199\n",
       "kurta            4195\n",
       "Western Dress    1335\n",
       "Top               829\n",
       "Ethnic Dress       80\n",
       "Blouse             75\n",
       "Bottom             41\n",
       "Saree              12\n",
       "Name: Category, dtype: int64"
      ]
     },
     "execution_count": 69,
     "metadata": {},
     "output_type": "execute_result"
    }
   ],
   "source": [
    "cancelleddata"
   ]
  },
  {
   "cell_type": "code",
   "execution_count": 70,
   "id": "6c85cdcd",
   "metadata": {},
   "outputs": [
    {
     "data": {
      "text/plain": [
       "Set              47042\n",
       "kurta            46717\n",
       "Western Dress    14704\n",
       "Top              10165\n",
       "Ethnic Dress      1093\n",
       "Blouse             881\n",
       "Bottom             420\n",
       "Saree              155\n",
       "Dupatta              3\n",
       "Name: Category, dtype: int64"
      ]
     },
     "execution_count": 70,
     "metadata": {},
     "output_type": "execute_result"
    }
   ],
   "source": [
    "d1"
   ]
  },
  {
   "cell_type": "code",
   "execution_count": 104,
   "id": "56a2046a",
   "metadata": {},
   "outputs": [
    {
     "data": {
      "text/plain": [
       "Bottom           9.76\n",
       "Western Dress    9.08\n",
       "kurta            8.98\n",
       "Set              8.93\n",
       "Blouse           8.51\n",
       "Top              8.16\n",
       "Saree            7.74\n",
       "Ethnic Dress     7.32\n",
       "Dupatta           NaN\n",
       "Name: Category, dtype: float64"
      ]
     },
     "execution_count": 104,
     "metadata": {},
     "output_type": "execute_result"
    }
   ],
   "source": [
    "round(100*cancelleddata/d1,2).sort_values(ascending=False)"
   ]
  },
  {
   "cell_type": "code",
   "execution_count": 87,
   "id": "4bf009eb",
   "metadata": {},
   "outputs": [
    {
     "data": {
      "text/plain": [
       "Category\n",
       "Set              39204124.03\n",
       "kurta            21299546.70\n",
       "Western Dress    11216072.69\n",
       "Top               5347792.30\n",
       "Ethnic Dress       791217.66\n",
       "Blouse             458408.18\n",
       "Bottom             150667.98\n",
       "Saree              123933.76\n",
       "Dupatta               915.00\n",
       "Name: Amount, dtype: float64"
      ]
     },
     "execution_count": 87,
     "metadata": {},
     "output_type": "execute_result"
    }
   ],
   "source": [
    "bycat = data.groupby('Category')['Amount'].sum().sort_values(ascending=False)\n",
    "bycat"
   ]
  },
  {
   "cell_type": "code",
   "execution_count": 89,
   "id": "23b43b8d",
   "metadata": {},
   "outputs": [
    {
     "data": {
      "text/plain": [
       "Set              47042\n",
       "kurta            46717\n",
       "Western Dress    14704\n",
       "Top              10165\n",
       "Ethnic Dress      1093\n",
       "Blouse             881\n",
       "Bottom             420\n",
       "Saree              155\n",
       "Dupatta              3\n",
       "Name: Category, dtype: int64"
      ]
     },
     "execution_count": 89,
     "metadata": {},
     "output_type": "execute_result"
    }
   ],
   "source": [
    "catno = data['Category'].value_counts()\n",
    "catno"
   ]
  },
  {
   "cell_type": "code",
   "execution_count": 93,
   "id": "999e3776",
   "metadata": {},
   "outputs": [
    {
     "data": {
      "text/plain": [
       "Category\n",
       "Set              833.0\n",
       "kurta            456.0\n",
       "Western Dress    763.0\n",
       "Top              526.0\n",
       "Ethnic Dress     724.0\n",
       "Blouse           520.0\n",
       "Bottom           359.0\n",
       "Saree            800.0\n",
       "Dupatta          305.0\n",
       "dtype: float64"
      ]
     },
     "execution_count": 93,
     "metadata": {},
     "output_type": "execute_result"
    }
   ],
   "source": [
    "avgperorder = round(bycat/catno,0)\n",
    "avgperorder"
   ]
  },
  {
   "cell_type": "code",
   "execution_count": 99,
   "id": "7973ba80",
   "metadata": {},
   "outputs": [
    {
     "data": {
      "text/html": [
       "<div>\n",
       "<style scoped>\n",
       "    .dataframe tbody tr th:only-of-type {\n",
       "        vertical-align: middle;\n",
       "    }\n",
       "\n",
       "    .dataframe tbody tr th {\n",
       "        vertical-align: top;\n",
       "    }\n",
       "\n",
       "    .dataframe thead th {\n",
       "        text-align: right;\n",
       "    }\n",
       "</style>\n",
       "<table border=\"1\" class=\"dataframe\">\n",
       "  <thead>\n",
       "    <tr style=\"text-align: right;\">\n",
       "      <th></th>\n",
       "      <th>Amount</th>\n",
       "    </tr>\n",
       "    <tr>\n",
       "      <th>Status</th>\n",
       "      <th></th>\n",
       "    </tr>\n",
       "  </thead>\n",
       "  <tbody>\n",
       "    <tr>\n",
       "      <th>Shipped</th>\n",
       "      <td>50324255.0</td>\n",
       "    </tr>\n",
       "    <tr>\n",
       "      <th>Shipped - Delivered to Buyer</th>\n",
       "      <td>18650815.0</td>\n",
       "    </tr>\n",
       "    <tr>\n",
       "      <th>Cancelled</th>\n",
       "      <td>6919284.3</td>\n",
       "    </tr>\n",
       "    <tr>\n",
       "      <th>Shipped - Returned to Seller</th>\n",
       "      <td>1269644.0</td>\n",
       "    </tr>\n",
       "    <tr>\n",
       "      <th>Shipped - Picked Up</th>\n",
       "      <td>661252.0</td>\n",
       "    </tr>\n",
       "    <tr>\n",
       "      <th>Pending</th>\n",
       "      <td>430271.0</td>\n",
       "    </tr>\n",
       "    <tr>\n",
       "      <th>Pending - Waiting for Pick Up</th>\n",
       "      <td>192138.0</td>\n",
       "    </tr>\n",
       "    <tr>\n",
       "      <th>Shipped - Returning to Seller</th>\n",
       "      <td>107620.0</td>\n",
       "    </tr>\n",
       "    <tr>\n",
       "      <th>Shipped - Out for Delivery</th>\n",
       "      <td>26971.0</td>\n",
       "    </tr>\n",
       "    <tr>\n",
       "      <th>Shipped - Rejected by Buyer</th>\n",
       "      <td>7295.0</td>\n",
       "    </tr>\n",
       "    <tr>\n",
       "      <th>Shipped - Lost in Transit</th>\n",
       "      <td>1997.0</td>\n",
       "    </tr>\n",
       "    <tr>\n",
       "      <th>Shipped - Damaged</th>\n",
       "      <td>1136.0</td>\n",
       "    </tr>\n",
       "  </tbody>\n",
       "</table>\n",
       "</div>"
      ],
      "text/plain": [
       "                                   Amount\n",
       "Status                                   \n",
       "Shipped                        50324255.0\n",
       "Shipped - Delivered to Buyer   18650815.0\n",
       "Cancelled                       6919284.3\n",
       "Shipped - Returned to Seller    1269644.0\n",
       "Shipped - Picked Up              661252.0\n",
       "Pending                          430271.0\n",
       "Pending - Waiting for Pick Up    192138.0\n",
       "Shipped - Returning to Seller    107620.0\n",
       "Shipped - Out for Delivery        26971.0\n",
       "Shipped - Rejected by Buyer        7295.0\n",
       "Shipped - Lost in Transit          1997.0\n",
       "Shipped - Damaged                  1136.0"
      ]
     },
     "execution_count": 99,
     "metadata": {},
     "output_type": "execute_result"
    }
   ],
   "source": [
    "data.groupby('Status')[['Category','Amount']].sum().sort_values('Amount',ascending = False)"
   ]
  },
  {
   "cell_type": "code",
   "execution_count": 102,
   "id": "b9710b92",
   "metadata": {},
   "outputs": [
    {
     "data": {
      "text/plain": [
       "Status\n",
       "Shipped                          77596\n",
       "Shipped - Delivered to Buyer     28761\n",
       "Cancelled                        10766\n",
       "Shipped - Returned to Seller      1950\n",
       "Shipped - Picked Up                973\n",
       "Pending                            656\n",
       "Pending - Waiting for Pick Up      281\n",
       "Shipped - Returning to Seller      145\n",
       "Shipped - Out for Delivery          35\n",
       "Shipped - Rejected by Buyer         11\n",
       "Shipped - Lost in Transit            5\n",
       "Shipped - Damaged                    1\n",
       "Name: Status, dtype: int64"
      ]
     },
     "execution_count": 102,
     "metadata": {},
     "output_type": "execute_result"
    }
   ],
   "source": [
    "data.groupby('Status')['Status'].count().sort_values(ascending=False)"
   ]
  },
  {
   "cell_type": "code",
   "execution_count": 110,
   "id": "f0420278",
   "metadata": {},
   "outputs": [
    {
     "data": {
      "text/plain": [
       "Size  Size\n",
       "M     M       21292\n",
       "L     L       20800\n",
       "XL    XL      19726\n",
       "XXL   XXL     17066\n",
       "S     S       15953\n",
       "3XL   3XL     14052\n",
       "XS    XS      10296\n",
       "6XL   6XL       705\n",
       "5XL   5XL       526\n",
       "4XL   4XL       408\n",
       "Free  Free      356\n",
       "Name: Size, dtype: int64"
      ]
     },
     "execution_count": 110,
     "metadata": {},
     "output_type": "execute_result"
    }
   ],
   "source": [
    "data.groupby('Size')['Size'].value_counts().sort_values(ascending=False)"
   ]
  },
  {
   "cell_type": "code",
   "execution_count": 112,
   "id": "06bb969a",
   "metadata": {},
   "outputs": [
    {
     "data": {
      "text/plain": [
       "Size\n",
       "M       13906754.37\n",
       "L       13234886.19\n",
       "XL      12464965.86\n",
       "XXL     10636288.45\n",
       "S       10629210.18\n",
       "3XL      9157147.68\n",
       "XS       7022375.20\n",
       "6XL       576249.33\n",
       "5XL       425156.63\n",
       "4XL       334451.64\n",
       "Free      205192.77\n",
       "Name: Amount, dtype: float64"
      ]
     },
     "execution_count": 112,
     "metadata": {},
     "output_type": "execute_result"
    }
   ],
   "source": [
    "data.groupby('Size')['Amount'].sum().sort_values(ascending=False)"
   ]
  },
  {
   "cell_type": "code",
   "execution_count": 114,
   "id": "4d649d1d",
   "metadata": {},
   "outputs": [
    {
     "data": {
      "text/plain": [
       "78592678.29999998"
      ]
     },
     "execution_count": 114,
     "metadata": {},
     "output_type": "execute_result"
    }
   ],
   "source": [
    "data['Amount'].sum()"
   ]
  },
  {
   "cell_type": "code",
   "execution_count": 115,
   "id": "2b1af604",
   "metadata": {},
   "outputs": [
    {
     "name": "stdout",
     "output_type": "stream",
     "text": [
      "<class 'pandas.core.frame.DataFrame'>\n",
      "Int64Index: 121180 entries, 0 to 128974\n",
      "Data columns (total 22 columns):\n",
      " #   Column              Non-Null Count   Dtype  \n",
      "---  ------              --------------   -----  \n",
      " 0   index               121180 non-null  int64  \n",
      " 1   Order ID            121180 non-null  object \n",
      " 2   Date                121180 non-null  object \n",
      " 3   Status              121180 non-null  object \n",
      " 4   Fulfilment          121180 non-null  object \n",
      " 5   Sales Channel       121180 non-null  object \n",
      " 6   ship-service-level  121180 non-null  object \n",
      " 7   Style               121180 non-null  object \n",
      " 8   SKU                 121180 non-null  object \n",
      " 9   Category            121180 non-null  object \n",
      " 10  Size                121180 non-null  object \n",
      " 11  ASIN                121180 non-null  object \n",
      " 12  Courier Status      121180 non-null  object \n",
      " 13  Qty                 121180 non-null  int64  \n",
      " 14  currency            121180 non-null  object \n",
      " 15  Amount              121180 non-null  float64\n",
      " 16  ship-city           121149 non-null  object \n",
      " 17  ship-state          121149 non-null  object \n",
      " 18  ship-postal-code    121149 non-null  float64\n",
      " 19  ship-country        121149 non-null  object \n",
      " 20  promotion-ids       121180 non-null  object \n",
      " 21  B2B                 121180 non-null  bool   \n",
      "dtypes: bool(1), float64(2), int64(2), object(17)\n",
      "memory usage: 20.5+ MB\n"
     ]
    }
   ],
   "source": [
    "data.info()"
   ]
  },
  {
   "cell_type": "code",
   "execution_count": 120,
   "id": "305a6ffd",
   "metadata": {},
   "outputs": [],
   "source": [
    "bystate= data['ship-state'].value_counts().head(10)"
   ]
  },
  {
   "cell_type": "code",
   "execution_count": 125,
   "id": "d2977901",
   "metadata": {},
   "outputs": [],
   "source": [
    "perbystate = round(100*(bystate/len(data)),2)"
   ]
  },
  {
   "cell_type": "code",
   "execution_count": 126,
   "id": "4b10dcc7",
   "metadata": {},
   "outputs": [
    {
     "data": {
      "text/plain": [
       "MAHARASHTRA       17.39\n",
       "KARNATAKA         13.53\n",
       "TAMIL NADU         8.92\n",
       "TELANGANA          8.78\n",
       "UTTAR PRADESH      8.21\n",
       "DELHI              5.28\n",
       "KERALA             5.08\n",
       "WEST BENGAL        4.58\n",
       "ANDHRA PRADESH     4.17\n",
       "HARYANA            3.46\n",
       "Name: ship-state, dtype: float64"
      ]
     },
     "execution_count": 126,
     "metadata": {},
     "output_type": "execute_result"
    }
   ],
   "source": [
    "perbystate"
   ]
  },
  {
   "cell_type": "code",
   "execution_count": 127,
   "id": "d0c30bba",
   "metadata": {},
   "outputs": [
    {
     "data": {
      "text/plain": [
       "MAHARASHTRA       0.173943\n",
       "KARNATAKA         0.135321\n",
       "TAMIL NADU        0.089221\n",
       "TELANGANA         0.087801\n",
       "UTTAR PRADESH     0.082106\n",
       "DELHI             0.052770\n",
       "KERALA            0.050772\n",
       "WEST BENGAL       0.045787\n",
       "ANDHRA PRADESH    0.041725\n",
       "HARYANA           0.034569\n",
       "Name: ship-state, dtype: float64"
      ]
     },
     "execution_count": 127,
     "metadata": {},
     "output_type": "execute_result"
    }
   ],
   "source": [
    "data['ship-state'].value_counts(normalize=True).head(10)"
   ]
  },
  {
   "cell_type": "code",
   "execution_count": 129,
   "id": "fb41e913",
   "metadata": {},
   "outputs": [
    {
     "data": {
      "text/plain": [
       "ship-state\n",
       "MAHARASHTRA      13335534.14\n",
       "KARNATAKA        10481114.37\n",
       "TELANGANA         6916615.65\n",
       "UTTAR PRADESH     6816642.08\n",
       "TAMIL NADU        6515650.11\n",
       "                    ...     \n",
       "Pondicherry           529.00\n",
       "rajsthan              521.00\n",
       "AR                    493.00\n",
       "Rajsthan              443.00\n",
       "PB                    399.00\n",
       "Name: Amount, Length: 68, dtype: float64"
      ]
     },
     "execution_count": 129,
     "metadata": {},
     "output_type": "execute_result"
    }
   ],
   "source": [
    "amtbystate = data.groupby('ship-state')['Amount'].sum().sort_values(ascending=False)\n",
    "amtbystate"
   ]
  },
  {
   "cell_type": "code",
   "execution_count": 133,
   "id": "d46acad5",
   "metadata": {},
   "outputs": [
    {
     "data": {
      "text/plain": [
       "ship-state\n",
       "MAHARASHTRA      16.97\n",
       "KARNATAKA        13.34\n",
       "TELANGANA         8.80\n",
       "UTTAR PRADESH     8.67\n",
       "TAMIL NADU        8.29\n",
       "                 ...  \n",
       "Pondicherry       0.00\n",
       "rajsthan          0.00\n",
       "AR                0.00\n",
       "Rajsthan          0.00\n",
       "PB                0.00\n",
       "Name: Amount, Length: 68, dtype: float64"
      ]
     },
     "execution_count": 133,
     "metadata": {},
     "output_type": "execute_result"
    }
   ],
   "source": [
    "amtperctbystate = round(100*(amtbystate/78592678.29999998),2)\n",
    "amtperctbystate"
   ]
  },
  {
   "cell_type": "code",
   "execution_count": null,
   "id": "923c7d55",
   "metadata": {},
   "outputs": [],
   "source": []
  }
 ],
 "metadata": {
  "kernelspec": {
   "display_name": "Python 3 (ipykernel)",
   "language": "python",
   "name": "python3"
  },
  "language_info": {
   "codemirror_mode": {
    "name": "ipython",
    "version": 3
   },
   "file_extension": ".py",
   "mimetype": "text/x-python",
   "name": "python",
   "nbconvert_exporter": "python",
   "pygments_lexer": "ipython3",
   "version": "3.9.7"
  }
 },
 "nbformat": 4,
 "nbformat_minor": 5
}
